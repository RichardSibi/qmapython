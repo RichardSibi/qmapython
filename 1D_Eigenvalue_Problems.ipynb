{
 "cells": [
  {
   "cell_type": "markdown",
   "metadata": {},
   "source": [
    "# Solving the 1-D Eigenvalue Equation  \n",
    "$$ -\\frac{\\hbar^2}{2m} \\frac{d^2\\psi}{dx^2} + V(x)\\psi = E \\psi $$  \n",
    "## Reduction to dimensionless form  \n",
    " Assume natural length scale $l_0$. Let $x=l_0 y$. Substituting gives  \n",
    " $$ -\\frac{\\hbar^2}{2ml_0^2} \\frac{d^2\\psi}{dy^2} + V(x)\\psi = E \\psi $$  \n",
    " Use $E_0 = \\hbar^2/2ml_0^2$ as a natural energy scale. Dividing throughout by $E_0$ gives  \n",
    "  $$ -\\frac{d^2\\psi}{dy^2} + U(y)\\psi = \\epsilon \\psi $$  \n",
    "  where $U(y)=V(l_0 y)/E_0$ and $\\epsilon=E/E_0$. The wavefunction satisfies the constraint  \n",
    "  $$ \\int dx |\\psi|^2 = 1 $$.  \n",
    "  We define a dimensionless wavefunction $\\phi = \\sqrt{l_0}\\times \\psi$. This \n",
    "  satisfies  \n",
    "  $$ \\int dy |\\phi|^2 = 1 $$.\n",
    "  \n",
    "## Discretization  \n",
    "We assume that $x \\in [-L,L]$. Then, $y \\in [-\\tilde{L},\\tilde{L}]$ where $\\tilde{L}=L/l_0$.  \n",
    "Divide the interval $[-\\tilde{L},\\tilde{L}]$ into $N$ segments with lattice points labelled by an \n",
    "integer $i$ such that $y_i = i\\times \\Delta$ where $\\Delta = 2\\tilde{L}/N$. Using the symmetric difference for the \n",
    "second derivative in the eigenvalue equation gives (at $y_i$)  \n",
    "$$-\\frac{1}{\\Delta^2}\\left(\\phi_{i+1}-2\\phi_i+\\phi_{i-1}\\right) + U_i \\phi_i = \\epsilon \\phi_i $$  \n",
    "This equation can be cast in the matrix form  \n",
    "$$H \\phi = \\epsilon \\phi $$\n",
    "where the matrix $H$ has elements  \n",
    "$$H_{ij} = -\\frac{1}{\\Delta^2}\\left(\\delta_{i+1,j}-2\\delta_{i,j}+\\delta_{i-1,j}\\right) + U_i \\delta_{i,j} $$  \n",
    "At this point, the eigenvalues and eigenvectors of $H$ can be determined using numpy.  \n",
    "The normalization constraint on the eigenvectors $\\phi$ is  \n",
    " $$ \\int dy |\\phi|^2 = 1 $$  \n",
    " which, in discrete form, reduces to\n",
    " $$ \\Delta \\sum_i |\\phi_i|^2 = 1 $$"
   ]
  },
  {
   "cell_type": "markdown",
   "metadata": {},
   "source": [
    "## Example: Harmonic Oscillator\n",
    "\n",
    "$$V(x) = \\frac{1}{2}m\\omega^2 x^2$$ \n",
    "The natural energy scale is $E_0 = \\hbar\\omega/2$. The associated length scale $l_0$ can be found using  $E_0 = \\hbar^2/2ml_0^2$, which gives $l_0 = \\sqrt{\\hbar/m\\omega}$. The dimensionless eigenvalue equation is  \n",
    "$$-\\frac{d^2\\phi}{dy^2} + y^2\\phi = \\epsilon \\phi $$ "
   ]
  },
  {
   "cell_type": "code",
   "execution_count": 50,
   "metadata": {},
   "outputs": [],
   "source": [
    "import numpy as np\n",
    "from numpy import linalg as lin\n",
    "import matplotlib.pyplot as plt\n",
    "plt.style.use(\"seaborn-whitegrid\")\n",
    "%matplotlib inline"
   ]
  },
  {
   "cell_type": "code",
   "execution_count": 51,
   "metadata": {},
   "outputs": [],
   "source": [
    "delta = 0.01\n",
    "L = 6. \n",
    "N = 600 # No. of lattice points is 2N+1\n",
    "x = np.arange(-6.,6.+delta,delta)\n"
   ]
  },
  {
   "cell_type": "code",
   "execution_count": 52,
   "metadata": {},
   "outputs": [],
   "source": [
    "def kronecker(i,j):\n",
    "    return 1 if i==j else 0\n",
    "\n",
    "def V(z):\n",
    "    return z**2\n",
    "\n",
    "def h(i,j):\n",
    "    return (-kronecker(i+1,j) + 2*kronecker(i,j) - kronecker(i-1,j))/delta**2 + V(delta*i) * kronecker(i,j)"
   ]
  },
  {
   "cell_type": "code",
   "execution_count": 54,
   "metadata": {},
   "outputs": [],
   "source": [
    "H = np.array( [[h(i,j) for i in range(-N,N+1)] for j in range(-N,N+1)] ) # The Hamiltonian matrix\n",
    "H_eigenvalues, H_eigenvectors = lin.eig(H)\n",
    "idx = H_eigenvalues.argsort() # Sorted indices (increasing order of eigenvalues)\n",
    "H_eigenvalues = H_eigenvalues[idx] # Sorted eigenvalues\n",
    "H_eigenvectors = H_eigenvectors[:,idx] # Sorted eigenvectors"
   ]
  },
  {
   "cell_type": "code",
   "execution_count": 55,
   "metadata": {},
   "outputs": [],
   "source": [
    "potential = 0.01*np.array([V(delta*i) for i in range(-N,N+1)]) # Values of U(y) stored at lattice points"
   ]
  },
  {
   "cell_type": "code",
   "execution_count": 56,
   "metadata": {},
   "outputs": [],
   "source": [
    "psi = H_eigenvectors[:,0] # Ground state wavefunction"
   ]
  },
  {
   "cell_type": "code",
   "execution_count": 58,
   "metadata": {
    "scrolled": true
   },
   "outputs": [
    {
     "data": {
      "image/png": "[encoded data removed]",
      "text/plain": [
       "<Figure size 432x288 with 1 Axes>"
      ]
     },
     "metadata": {
      "needs_background": "light"
     },
     "output_type": "display_data"
    }
   ],
   "source": [
    "plt.plot(x, -psi, label=\"eigenfunction\")\n",
    "plt.plot(x, potential, label=\"Potential\")\n",
    "plt.legend();"
   ]
  },
  {
   "cell_type": "code",
   "execution_count": 59,
   "metadata": {},
   "outputs": [
    {
     "data": {
      "text/plain": [
       "array([-1.27828846e-10, -2.56105412e-10, -3.85275636e-10, ...,\n",
       "       -3.85281257e-10, -2.56109486e-10, -1.27831207e-10])"
      ]
     },
     "execution_count": 59,
     "metadata": {},
     "output_type": "execute_result"
    }
   ],
   "source": [
    "wavefunction.conj().T # Hermitian adjoint of psi"
   ]
  },
  {
   "cell_type": "code",
   "execution_count": 60,
   "metadata": {},
   "outputs": [
    {
     "data": {
      "text/plain": [
       "1.0000000000000022"
      ]
     },
     "execution_count": 60,
     "metadata": {},
     "output_type": "execute_result"
    }
   ],
   "source": [
    "np.dot(wavefunction.conj().T, wavefunction) # Normalization check"
   ]
  },
  {
   "cell_type": "code",
   "execution_count": 61,
   "metadata": {},
   "outputs": [
    {
     "name": "stdout",
     "output_type": "stream",
     "text": [
      "0.999993749960401\n"
     ]
    }
   ],
   "source": [
    "energy_eigenvalue = H_eigenvalues[0]\n",
    "print(energy_eigenvalue) "
   ]
  },
  {
   "cell_type": "code",
   "execution_count": null,
   "metadata": {},
   "outputs": [],
   "source": []
  }
 ],
 "metadata": {
  "kernelspec": {
   "display_name": "Python 3",
   "language": "python",
   "name": "python3"
  },
  "language_info": {
   "codemirror_mode": {
    "name": "ipython",
    "version": 3
   },
   "file_extension": ".py",
   "mimetype": "text/x-python",
   "name": "python",
   "nbconvert_exporter": "python",
   "pygments_lexer": "ipython3",
   "version": "3.8.5"
  },
  "latex_envs": {
   "LaTeX_envs_menu_present": true,
   "autoclose": true,
   "autocomplete": true,
   "bibliofile": "biblio.bib",
   "cite_by": "apalike",
   "current_citInitial": 1,
   "eqLabelWithNumbers": true,
   "eqNumInitial": 1,
   "hotkeys": {
    "equation": "Ctrl-E",
    "itemize": "Ctrl-I"
   },
   "labels_anchors": false,
   "latex_user_defs": false,
   "report_style_numbering": false,
   "user_envs_cfg": false
  }
 },
 "nbformat": 4,
 "nbformat_minor": 4
}
